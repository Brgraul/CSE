{
 "cells": [
  {
   "cell_type": "code",
   "execution_count": 36,
   "metadata": {},
   "outputs": [],
   "source": [
    "# Imports\n",
    "from sympy import *\n",
    "# Sympy is useful for whenever we want to compute symbolic expressions. However Numpy is more optimal\n",
    "# If what we want to do is evaluate a function in several points.\n",
    "import numpy as np\n",
    "import matplotlib.pyplot as plt"
   ]
  },
  {
   "cell_type": "code",
   "execution_count": 17,
   "metadata": {},
   "outputs": [],
   "source": [
    "# Function declaration\n",
    "def is_even(n):\n",
    "    # Checks for evenness\n",
    "    return((n%2)==0)\n",
    "\n",
    "def imaginary_power(pow):\n",
    "    # If its an even power, the imaginary part cancels out, else returns -1\n",
    "    if is_even(pow):\n",
    "        return(1)\n",
    "    else:\n",
    "        return(i)"
   ]
  },
  {
   "cell_type": "code",
   "execution_count": 18,
   "metadata": {},
   "outputs": [],
   "source": [
    "# Variable declaration\n",
    "x = Symbol('x')\n",
    "i = Symbol('i')"
   ]
  },
  {
   "cell_type": "code",
   "execution_count": 28,
   "metadata": {},
   "outputs": [
    {
     "name": "stdout",
     "output_type": "stream",
     "text": [
      "Numbers are 7*i and 6*i \n",
      "\n",
      "Their sum is: 13*i\n"
     ]
    }
   ],
   "source": [
    "# Example for complex Sum \n",
    "\n",
    "z1 = np.random.randint(0,10) + np.random.randint(0,10)*i\n",
    "z2 = np.random.randint(0,10) + np.random.randint(0,10)*i\n",
    "print('Numbers are',z1,'and',z2,'\\n')\n",
    "print('Their sum is:',z1+z2)"
   ]
  },
  {
   "cell_type": "code",
   "execution_count": null,
   "metadata": {},
   "outputs": [],
   "source": [
    "# Implement complex multiplication\n",
    "def compmult(z1,z2):\n",
    "    res = z1*z2\n"
   ]
  },
  {
   "cell_type": "code",
   "execution_count": 32,
   "metadata": {},
   "outputs": [
    {
     "data": {
      "text/plain": [
       "array([0. +6.j, 1. +7.j, 2. +8.j, 3. +9.j, 4.+10.j])"
      ]
     },
     "execution_count": 32,
     "metadata": {},
     "output_type": "execute_result"
    }
   ],
   "source": [
    "a = np.arange(5) + 1j*np.arange(6,11)\n",
    "a"
   ]
  },
  {
   "cell_type": "code",
   "execution_count": 46,
   "metadata": {},
   "outputs": [],
   "source": [
    "# Plotting tool\n",
    "\n",
    "def argand(a):\n",
    "    for x in range(len(a)):\n",
    "        plt.plot([0,a[x].real],[0,a[x].imag],'ro-',label='python')\n",
    "    limit=np.max(np.ceil(np.absolute(a))) # set limits for axis\n",
    "    plt.xlim((-limit,limit))\n",
    "    plt.ylim((-limit,limit))\n",
    "    plt.ylabel('Imaginary')\n",
    "    plt.xlabel('Real')\n",
    "    plt.grid()\n",
    "    plt.show()\n"
   ]
  },
  {
   "cell_type": "code",
   "execution_count": 48,
   "metadata": {},
   "outputs": [],
   "source": [
    "import matplotlib.colors"
   ]
  },
  {
   "cell_type": "code",
   "execution_count": null,
   "metadata": {},
   "outputs": [],
   "source": []
  }
 ],
 "metadata": {
  "kernelspec": {
   "display_name": "Python 3",
   "language": "python",
   "name": "python3"
  },
  "language_info": {
   "codemirror_mode": {
    "name": "ipython",
    "version": 3
   },
   "file_extension": ".py",
   "mimetype": "text/x-python",
   "name": "python",
   "nbconvert_exporter": "python",
   "pygments_lexer": "ipython3",
   "version": "3.7.0"
  }
 },
 "nbformat": 4,
 "nbformat_minor": 2
}
